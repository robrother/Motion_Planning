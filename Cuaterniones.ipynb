{
 "cells": [
  {
   "cell_type": "markdown",
   "metadata": {},
   "source": [
    "\n",
    "## Quaternions\n",
    "\n",
    "In the following exercise you'll implement functions to convert between Euler angles and quaternion representations. It's useful to be able to easily navigate back and forth between these representations because of their relative strengths. Quaternions are better for calculations, while Euler angles are far more intuitive.\n",
    "\n",
    "Some messages coming from your drone in simulation (or in the real world) will represent orientation data as a quaternion, while others use Euler angles. So it's a good idea to be able to seamlessly handle both."
   ]
  },
  {
   "attachments": {
    "image.png": {
     "image/png": "[encoded data removed]"
    }
   },
   "cell_type": "markdown",
   "metadata": {},
   "source": [
    "## From a quaternion to a rotation Matrix\n",
    "\n",
    "![image.png](attachment:image.png)\n",
    "\n",
    "## From a matrix of angles to a quaternion\n",
    "![image.png](attachment:image.png)\n",
    "![image.png](attachment:image.png)\n",
    "\n",
    "## From Euler angles to a quaternion\n",
    "![image.png](attachment:image.png)\n",
    "![image.png](attachment:image.png)"
   ]
  },
  {
   "cell_type": "code",
   "execution_count": 12,
   "metadata": {},
   "outputs": [],
   "source": [
    "import numpy as np\n",
    "import math as mt\n",
    "\n",
    "#-----------------------------------------------------------------------------------------------\n",
    "def quaternion_multiply(quaternion1, quaternion0):\n",
    "    w0, x0, y0, z0 = quaternion0\n",
    "    w1, x1, y1, z1 = quaternion1\n",
    "    return np.array([-x1 * x0 - y1 * y0 - z1 * z0 + w1 * w0,\n",
    "                     x1 * w0 + y1 * z0 - z1 * y0 + w1 * x0,\n",
    "                     -x1 * z0 + y1 * w0 + z1 * x0 + w1 * y0,\n",
    "                     x1 * y0 - y1 * x0 + z1 * w0 + w1 * z0])\n",
    "\n",
    "def rot_yaw_to_quat(psi):\n",
    "    cos=mt.cos(psi/2)\n",
    "    sin=mt.sin(psi/2)\n",
    "    return np.array([cos,0,0,sin])\n",
    "\n",
    "def rot_pitch_to_quat(theta):\n",
    "    cos=mt.cos(theta/2)\n",
    "    sin=mt.sin(theta/2)\n",
    "    return np.array([cos,0,sin,0])\n",
    "\n",
    "def rot_roll_to_quat(phi):    \n",
    "    cos=mt.cos(phi/2)\n",
    "    sin=mt.sin(phi/2)\n",
    "    return np.array([cos,sin,0,0])\n",
    "#---------------------------------------------------------------------------------------------------\n",
    "\n",
    "def euler_to_quaternion(angles):\n",
    "    roll = angles[0]\n",
    "    pitch = angles[1]\n",
    "    yaw = angles[2]\n",
    "\n",
    "    q_yaw = rot_yaw_to_quat(yaw)\n",
    "    q_pitch = rot_pitch_to_quat(pitch)\n",
    "    q_roll = rot_roll_to_quat(roll)\n",
    "    return quaternion_multiply(q_yaw, quaternion_multiply(q_pitch, q_roll))\n",
    "\n",
    "def quaternion_to_euler(quaternion):\n",
    "    a = quaternion[0]\n",
    "    b = quaternion[1]\n",
    "    c = quaternion[2]\n",
    "    d = quaternion[3]\n",
    "\n",
    "    return np.array([ mt.atan2(2*(a*b+c*d),1-2*(b**2 + c**2)),\n",
    "                     mt.asin(2*(a*c-d*b)),\n",
    "                     mt.atan2(2*(a*d+b*c),1-2*(c**2+d**2))])"
   ]
  },
  {
   "cell_type": "markdown",
   "metadata": {},
   "source": [
    "Test the conversion."
   ]
  },
  {
   "cell_type": "code",
   "execution_count": 18,
   "metadata": {},
   "outputs": [
    {
     "name": "stdout",
     "output_type": "stream",
     "text": [
      "Los ángulos de Euler en radianes son:\n",
      "[1.57079633 0.52359878 0.        ]\n",
      "La conversión de Euler a cuaternion es:\n",
      "[ 0.6830127  0.6830127  0.1830127 -0.1830127]\n",
      "La conversión de Cuaternion a Euler es:\n",
      "[1.57079633 0.52359878 0.        ]\n"
     ]
    }
   ],
   "source": [
    "#Escribimos los ángulos de Euler\n",
    "an1=np.deg2rad(90)\n",
    "an2=np.deg2rad(30)\n",
    "an3=np.deg2rad(0)\n",
    "\n",
    "print(\"Los ángulos de Euler en radianes son:\")\n",
    "euler = np.array([an1,an2,an3])\n",
    "print(euler)\n",
    "\n",
    "#Convertimos los ángulos antes dados a forma de cuaternion\n",
    "print(\"La conversión de Euler a cuaternion es:\")\n",
    "q = euler_to_quaternion(euler) # should be [ 0.683  0.683  0.183 -0.183]\n",
    "print(q)\n",
    "\n",
    "#Hacemos el proceso inverso de conversión de cuaternion a ángulos de Euler, nos tiene que entregar el ángulo original escrito\n",
    "print(\"La conversión de Cuaternion a Euler es:\")\n",
    "e = quaternion_to_euler(q)\n",
    "print(e)"
   ]
  },
  {
   "cell_type": "code",
   "execution_count": null,
   "metadata": {},
   "outputs": [],
   "source": []
  }
 ],
 "metadata": {
  "kernelspec": {
   "display_name": "Python 3",
   "language": "python",
   "name": "python3"
  },
  "language_info": {
   "codemirror_mode": {
    "name": "ipython",
    "version": 3
   },
   "file_extension": ".py",
   "mimetype": "text/x-python",
   "name": "python",
   "nbconvert_exporter": "python",
   "pygments_lexer": "ipython3",
   "version": "3.6.4"
  }
 },
 "nbformat": 4,
 "nbformat_minor": 2
}
